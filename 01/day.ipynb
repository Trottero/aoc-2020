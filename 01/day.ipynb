{
 "metadata": {
  "language_info": {
   "codemirror_mode": {
    "name": "ipython",
    "version": 3
   },
   "file_extension": ".py",
   "mimetype": "text/x-python",
   "name": "python",
   "nbconvert_exporter": "python",
   "pygments_lexer": "ipython3",
   "version": "3.8.6-final"
  },
  "orig_nbformat": 2,
  "kernelspec": {
   "name": "python3",
   "display_name": "Python 3"
  }
 },
 "nbformat": 4,
 "nbformat_minor": 2,
 "cells": [
  {
   "cell_type": "code",
   "execution_count": 1,
   "metadata": {},
   "outputs": [
    {
     "output_type": "stream",
     "name": "stdout",
     "text": [
      "286977330.0\nTime taken:  9.62469999999982 ms\nIterations:  9841\n"
     ]
    }
   ],
   "source": [
    "import numpy as np\n",
    "import time\n",
    "\n",
    "lines = np.loadtxt('C:/Users/Niels/source/repos/aoc-2020/0-1-1/input.txt')\n",
    "\n",
    "# np.random.shuffle(lines)\n",
    "start = time.perf_counter()\n",
    "\n",
    "# lines.sort()\n",
    "n = len(lines)\n",
    "counter = 0\n",
    "f = False\n",
    "for i in range(n):\n",
    "    line1 = lines[i]\n",
    "    if line1 > 2020:\n",
    "        continue\n",
    "\n",
    "    for i2 in range(i, n):\n",
    "        line2 = lines[i2]\n",
    "        if line2 > 2020 or line1 + line2 > 2020:\n",
    "            continue\n",
    "\n",
    "        for i3 in range(i2, n):\n",
    "            line3 = lines[i3]\n",
    "            counter += 1\n",
    "            if line1 + line2 + line3 == 2020:\n",
    "                print(line1 * line2 * line3)\n",
    "                f = True\n",
    "                break\n",
    "        if f:\n",
    "            break\n",
    "    if f:\n",
    "        break\n",
    "\n",
    "print('Time taken: ', (time.perf_counter() - start) * 1000, 'ms')\n",
    "print('Iterations: ', counter)\n"
   ]
  },
  {
   "cell_type": "code",
   "execution_count": null,
   "metadata": {},
   "outputs": [],
   "source": []
  }
 ]
}