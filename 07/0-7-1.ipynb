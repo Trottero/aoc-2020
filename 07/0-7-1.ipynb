{
 "metadata": {
  "language_info": {
   "codemirror_mode": {
    "name": "ipython",
    "version": 3
   },
   "file_extension": ".py",
   "mimetype": "text/x-python",
   "name": "python",
   "nbconvert_exporter": "python",
   "pygments_lexer": "ipython3",
   "version": "3.8.6-final"
  },
  "orig_nbformat": 2,
  "kernelspec": {
   "name": "python3",
   "display_name": "Python 3"
  }
 },
 "nbformat": 4,
 "nbformat_minor": 2,
 "cells": [
  {
   "cell_type": "code",
   "execution_count": 64,
   "metadata": {
    "tags": []
   },
   "outputs": [
    {
     "output_type": "stream",
     "name": "stdout",
     "text": [
      "128\n"
     ]
    }
   ],
   "source": [
    "import numpy as np\n",
    "import re\n",
    "import string\n",
    "import pprint\n",
    "\n",
    "file = open('C:/Users/Niels/source/repos/aoc-2020/0-7-1/input.txt').readlines()\n",
    "file = [l.strip() for l in file]\n",
    "\n",
    "bag_dict = {}\n",
    "\n",
    "for line in file:\n",
    "    l_spl = line.replace('bags', '').replace('bag', '').split(' contain ')\n",
    "    key = l_spl[0].strip()\n",
    "    bag_dict[key] = {}\n",
    "    \n",
    "    expands = l_spl[1].replace('.', '').split(', ')\n",
    "    expands = [x.strip() for x in expands]\n",
    "    if expands[0] == 'no other':\n",
    "        continue\n",
    "    \n",
    "    for exp in expands:\n",
    "        exspl = exp.split(' ', 1)\n",
    "        bag_dict[key][exspl[1]] = exspl[0]\n",
    "\n",
    "\n",
    "\n",
    "bags = []\n",
    "def expand_up(current):\n",
    "    up = []\n",
    "    count = 0\n",
    "\n",
    "    for key in bag_dict:\n",
    "        if any(c in bag_dict[key].keys() for c in current):\n",
    "            bags.append(key)\n",
    "            up.append(key)\n",
    "\n",
    "    if len(up) != 0:\n",
    "        expand_up(up)\n",
    "\n",
    "expand_up(['shiny gold'])\n",
    "\n",
    "print(len(set(bags)))\n"
   ]
  },
  {
   "cell_type": "code",
   "execution_count": 65,
   "metadata": {},
   "outputs": [
    {
     "output_type": "stream",
     "name": "stdout",
     "text": [
      "20189\n"
     ]
    }
   ],
   "source": [
    "def count_recursively(current):\n",
    "    if len(bag_dict[current]) == 0:\n",
    "        return 0\n",
    "    count = 0\n",
    "    for subbags in bag_dict[current]:\n",
    "        count += int(bag_dict[current][subbags])\n",
    "        count += int(bag_dict[current][subbags]) * count_recursively(subbags)\n",
    "    return count\n",
    "\n",
    "print(count_recursively('shiny gold'))"
   ]
  },
  {
   "cell_type": "code",
   "execution_count": null,
   "metadata": {},
   "outputs": [],
   "source": []
  }
 ]
}