{
 "metadata": {
  "language_info": {
   "codemirror_mode": {
    "name": "ipython",
    "version": 3
   },
   "file_extension": ".py",
   "mimetype": "text/x-python",
   "name": "python",
   "nbconvert_exporter": "python",
   "pygments_lexer": "ipython3",
   "version": "3.8.6-final"
  },
  "orig_nbformat": 2,
  "kernelspec": {
   "name": "python3",
   "display_name": "Python 3.8.6 64-bit ('aoc-2020': pipenv)",
   "metadata": {
    "interpreter": {
     "hash": "8538f16f01f6521e53a87303eb70160661597bc15d45be66ca5dbd4a1ae6c0b2"
    }
   }
  }
 },
 "nbformat": 4,
 "nbformat_minor": 2,
 "cells": [
  {
   "cell_type": "code",
   "execution_count": 2,
   "metadata": {},
   "outputs": [],
   "source": [
    "import numpy as np\n",
    "import urllib.request"
   ]
  },
  {
   "cell_type": "code",
   "execution_count": 31,
   "metadata": {},
   "outputs": [
    {
     "output_type": "stream",
     "name": "stdout",
     "text": [
      "1666768320\n"
     ]
    }
   ],
   "source": [
    "\n",
    "file = open('C:/Users/Niels/source/repos/aoc-2020/0-3-1/input.txt').readlines()\n",
    "\n",
    "for i in range(len(file)):\n",
    "    file[i] = file[i].strip()\n",
    "\n",
    "file_w = len(file[0])\n",
    "\n",
    "steps_x = [1, 3, 5, 7, 1]\n",
    "steps_y = [1, 1, 1, 1, 2]\n",
    "\n",
    "counter = 0\n",
    "\n",
    "def get_slopes(step_x, step_y):\n",
    "    y = 0\n",
    "    x = 0\n",
    "    c = 0\n",
    "\n",
    "    for y_n in range(0, len(file), step_y):\n",
    "        # Check for tree on x, y_n\n",
    "        if file[y_n].strip()[x] == '#':\n",
    "            c += 1\n",
    "\n",
    "        # First handle horizontal wrapping\n",
    "        if x + step_x >= file_w:\n",
    "            x = (x + step_x) % file_w\n",
    "        else:\n",
    "            # increment x\n",
    "            x += step_x\n",
    "    return c\n",
    "\n",
    "s = 1\n",
    "for i in range(len(steps_x)):\n",
    "    s *= get_slopes(steps_x[i], steps_y[i])\n",
    "\n",
    "print(s)"
   ]
  },
  {
   "cell_type": "code",
   "execution_count": null,
   "metadata": {},
   "outputs": [],
   "source": []
  }
 ]
}