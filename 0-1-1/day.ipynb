{
 "metadata": {
  "language_info": {
   "codemirror_mode": {
    "name": "ipython",
    "version": 3
   },
   "file_extension": ".py",
   "mimetype": "text/x-python",
   "name": "python",
   "nbconvert_exporter": "python",
   "pygments_lexer": "ipython3",
   "version": "3.8.6-final"
  },
  "orig_nbformat": 2,
  "kernelspec": {
   "name": "python3",
   "display_name": "Python 3"
  }
 },
 "nbformat": 4,
 "nbformat_minor": 2,
 "cells": [
  {
   "cell_type": "code",
   "execution_count": 2,
   "metadata": {},
   "outputs": [
    {
     "output_type": "error",
     "ename": "NameError",
     "evalue": "name 'line' is not defined",
     "traceback": [
      "\u001b[1;31m---------------------------------------------------------------------------\u001b[0m",
      "\u001b[1;31mNameError\u001b[0m                                 Traceback (most recent call last)",
      "\u001b[1;32m<ipython-input-2-477b14efe9c1>\u001b[0m in \u001b[0;36m<module>\u001b[1;34m\u001b[0m\n\u001b[0;32m     25\u001b[0m             \u001b[0mcounter\u001b[0m \u001b[1;33m+=\u001b[0m \u001b[1;36m1\u001b[0m\u001b[1;33m\u001b[0m\u001b[1;33m\u001b[0m\u001b[0m\n\u001b[0;32m     26\u001b[0m             \u001b[1;32mif\u001b[0m \u001b[0mline1\u001b[0m \u001b[1;33m+\u001b[0m \u001b[0mline2\u001b[0m \u001b[1;33m+\u001b[0m \u001b[0mline3\u001b[0m \u001b[1;33m==\u001b[0m \u001b[1;36m2020\u001b[0m\u001b[1;33m:\u001b[0m\u001b[1;33m\u001b[0m\u001b[1;33m\u001b[0m\u001b[0m\n\u001b[1;32m---> 27\u001b[1;33m                 \u001b[0mprint\u001b[0m\u001b[1;33m(\u001b[0m\u001b[0mline\u001b[0m \u001b[1;33m*\u001b[0m \u001b[0mline2\u001b[0m \u001b[1;33m*\u001b[0m \u001b[0mline3\u001b[0m\u001b[1;33m)\u001b[0m\u001b[1;33m\u001b[0m\u001b[1;33m\u001b[0m\u001b[0m\n\u001b[0m\u001b[0;32m     28\u001b[0m                 \u001b[0mf\u001b[0m \u001b[1;33m=\u001b[0m \u001b[1;32mTrue\u001b[0m\u001b[1;33m\u001b[0m\u001b[1;33m\u001b[0m\u001b[0m\n\u001b[0;32m     29\u001b[0m                 \u001b[1;32mbreak\u001b[0m\u001b[1;33m\u001b[0m\u001b[1;33m\u001b[0m\u001b[0m\n",
      "\u001b[1;31mNameError\u001b[0m: name 'line' is not defined"
     ]
    }
   ],
   "source": [
    "import numpy as np\n",
    "import time\n",
    "\n",
    "lines = np.loadtxt('C:/Users/Niels/source/repos/aoc-2020/0-1-1/input.txt')\n",
    "\n",
    "# np.random.shuffle(lines)\n",
    "start = time.perf_counter()\n",
    "\n",
    "# lines.sort()\n",
    "n = len(lines)\n",
    "counter = 0\n",
    "f = False\n",
    "for i in range(n):\n",
    "    line1 = lines[i]\n",
    "    if line1 > 2020:\n",
    "        continue\n",
    "\n",
    "    for i2 in range(i, n):\n",
    "        line2 = lines[i2]\n",
    "        if line2 > 2020 or line1 + line2 > 2020:\n",
    "            continue\n",
    "\n",
    "        for i3 in range(i2, n):\n",
    "            line3 = lines[i3]\n",
    "            counter += 1\n",
    "            if line1 + line2 + line3 == 2020:\n",
    "                print(line1 * line2 * line3)\n",
    "                f = True\n",
    "                break\n",
    "        if f:\n",
    "            break\n",
    "    if f:\n",
    "        break\n",
    "\n",
    "print('Time taken: ', (time.perf_counter() - start) * 1000, 'ms')\n",
    "print('Iterations: ', counter)\n"
   ]
  },
  {
   "cell_type": "code",
   "execution_count": null,
   "metadata": {},
   "outputs": [],
   "source": []
  }
 ]
}