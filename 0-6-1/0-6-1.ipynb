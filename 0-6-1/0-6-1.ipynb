{
 "metadata": {
  "language_info": {
   "codemirror_mode": {
    "name": "ipython",
    "version": 3
   },
   "file_extension": ".py",
   "mimetype": "text/x-python",
   "name": "python",
   "nbconvert_exporter": "python",
   "pygments_lexer": "ipython3",
   "version": "3.8.6-final"
  },
  "orig_nbformat": 2,
  "kernelspec": {
   "name": "python3",
   "display_name": "Python 3"
  }
 },
 "nbformat": 4,
 "nbformat_minor": 2,
 "cells": [
  {
   "cell_type": "code",
   "execution_count": 37,
   "metadata": {},
   "outputs": [
    {
     "output_type": "stream",
     "name": "stdout",
     "text": [
      "6297\n"
     ]
    }
   ],
   "source": [
    "import numpy as np\n",
    "import re\n",
    "import string\n",
    "\n",
    "file = open('C:/Users/Niels/source/repos/aoc-2020/0-6-1/input.txt').readlines()\n",
    "file = [l.strip() for l in file]\n",
    "\n",
    "groups = []\n",
    "\n",
    "group_answers = []\n",
    "for line in file:\n",
    "    if line == '\\n' or line == '': # new group\n",
    "        groups.append(list(set(group_answers)))\n",
    "        group_answers = []\n",
    "        continue\n",
    "    for l in line:\n",
    "        group_answers.append(l)\n",
    "\n",
    "sum = np.array([len(x) for x in groups]).sum()\n",
    "print(sum)"
   ]
  },
  {
   "cell_type": "code",
   "execution_count": 38,
   "metadata": {
    "tags": []
   },
   "outputs": [
    {
     "output_type": "stream",
     "name": "stdout",
     "text": [
      "6297\n3158\n"
     ]
    }
   ],
   "source": [
    "import numpy as np\n",
    "import re\n",
    "import string\n",
    "\n",
    "file = open('C:/Users/Niels/source/repos/aoc-2020/0-6-1/input.txt').readlines()\n",
    "file = [l.strip() for l in file]\n",
    "\n",
    "unique_answers = []\n",
    "group_answers = []\n",
    "\n",
    "count = 0\n",
    "\n",
    "for line in file:\n",
    "    if line == '\\n' or line == '': # new group\n",
    "        t  = []\n",
    "        for g in group_answers:\n",
    "            for x in g:\n",
    "                t.append(x)\n",
    "        unique_answers.append(list(set(t)))\n",
    "\n",
    "        \n",
    "        for c in list(set(t)):\n",
    "            if all(c in group for group in group_answers):\n",
    "                count += 1\n",
    "        \n",
    "        group_answers = []\n",
    "        continue\n",
    "    p_ans = [l for l in line]\n",
    "    group_answers.append(np.array(p_ans))\n",
    "\n",
    "sum = np.array([len(x) for x in groups]).sum()\n",
    "print(sum)\n",
    "\n",
    "print(count)"
   ]
  },
  {
   "cell_type": "code",
   "execution_count": null,
   "metadata": {},
   "outputs": [],
   "source": []
  }
 ]
}