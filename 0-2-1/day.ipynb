{
 "metadata": {
  "language_info": {
   "codemirror_mode": {
    "name": "ipython",
    "version": 3
   },
   "file_extension": ".py",
   "mimetype": "text/x-python",
   "name": "python",
   "nbconvert_exporter": "python",
   "pygments_lexer": "ipython3",
   "version": "3.8.6-final"
  },
  "orig_nbformat": 2,
  "kernelspec": {
   "name": "python3",
   "display_name": "Python 3"
  }
 },
 "nbformat": 4,
 "nbformat_minor": 2,
 "cells": [
  {
   "cell_type": "code",
   "execution_count": 10,
   "metadata": {
    "tags": []
   },
   "outputs": [
    {
     "output_type": "stream",
     "name": "stdout",
     "text": [
      "313\n"
     ]
    }
   ],
   "source": [
    "import numpy as np\n",
    "import time\n",
    "\n",
    "file = open('C:/Users/Niels/source/repos/aoc-2020/0-2-1/input.txt')\n",
    "\n",
    "lines = file.readlines()\n",
    "\n",
    "def isValid(line):\n",
    "    spl = str(line).split(':')\n",
    "    pw = spl[1].strip()\n",
    "    rspl = spl[0].split()\n",
    "\n",
    "    letter = rspl[1]\n",
    "    rulespl = rspl[0].split('-')\n",
    "\n",
    "    c = pw.count(letter)\n",
    "    if c >= int(rulespl[0]) and c <= int(rulespl[1]):\n",
    "        return True\n",
    "\n",
    "def isValid2(line):\n",
    "    spl = str(line).split(':')\n",
    "    pw = spl[1].strip()\n",
    "    rspl = spl[0].split()\n",
    "\n",
    "    letter = rspl[1]\n",
    "    rulespl = rspl[0].split('-')\n",
    "\n",
    "    if bool(pw[int(rulespl[0]) - 1] == letter) ^ bool(pw[int(rulespl[1]) - 1] == letter):\n",
    "        return True\n",
    "\n",
    "def check(list):\n",
    "    t = 0\n",
    "    for line in list:\n",
    "        if isValid2(line):\n",
    "            t += 1\n",
    "    return t\n",
    "\n",
    "print(check(lines))"
   ]
  },
  {
   "cell_type": "code",
   "execution_count": null,
   "metadata": {},
   "outputs": [],
   "source": []
  }
 ]
}