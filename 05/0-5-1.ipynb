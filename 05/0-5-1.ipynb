{
 "metadata": {
  "language_info": {
   "codemirror_mode": {
    "name": "ipython",
    "version": 3
   },
   "file_extension": ".py",
   "mimetype": "text/x-python",
   "name": "python",
   "nbconvert_exporter": "python",
   "pygments_lexer": "ipython3",
   "version": "3.8.6-final"
  },
  "orig_nbformat": 2,
  "kernelspec": {
   "name": "python3",
   "display_name": "Python 3"
  }
 },
 "nbformat": 4,
 "nbformat_minor": 2,
 "cells": [
  {
   "cell_type": "code",
   "execution_count": 25,
   "metadata": {},
   "outputs": [],
   "source": [
    "import numpy as np\n",
    "import re\n",
    "import string\n"
   ]
  },
  {
   "cell_type": "code",
   "execution_count": 26,
   "metadata": {},
   "outputs": [
    {
     "output_type": "stream",
     "name": "stdout",
     "text": [
      "579\n"
     ]
    }
   ],
   "source": [
    "file = open('C:/Users/Niels/source/repos/aoc-2020/0-5-1/input.txt').readlines()\n",
    "file = [l.strip() for l in file]\n",
    "\n",
    "# B = 1\n",
    "# F = 0\n",
    "\n",
    "# R = 1\n",
    "# L = 0\n",
    "\n",
    "char_map = {\n",
    "    'B': '1',\n",
    "    'F': '0',\n",
    "    'R': '1',\n",
    "    'L': '0'\n",
    "}\n",
    "\n",
    "sid = 0\n",
    "sids = []\n",
    "for board_pass in file:\n",
    "    # Convert to binary\n",
    "    binary_str = [char_map[letter] for letter in board_pass]\n",
    "    binary_str = ''.join(binary_str)\n",
    "    row = int(binary_str[:7], 2)\n",
    "    col = int(binary_str[7:], 2)\n",
    "\n",
    "    c_sid = row * 8 + col\n",
    "    if c_sid > sid:\n",
    "        sid = c_sid\n",
    "    sids.append(c_sid)\n",
    "\n",
    "for current in range(sid + 1):\n",
    "    if current not in sids and current - 1 in sids and current + 1 in sids:\n",
    "        print(current)\n",
    "        break\n"
   ]
  },
  {
   "cell_type": "code",
   "execution_count": null,
   "metadata": {},
   "outputs": [],
   "source": []
  }
 ]
}